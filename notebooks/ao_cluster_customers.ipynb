{
 "cells": [
  {
   "cell_type": "markdown",
   "metadata": {},
   "source": [
    "# Libraries"
   ]
  },
  {
   "cell_type": "code",
   "execution_count": null,
   "metadata": {},
   "outputs": [],
   "source": [
    "import pandas as pd\n",
    "import numpy as np\n",
    "import matplotlib.pyplot as plt\n",
    "from sklearn.datasets import make_blobs\n",
    "from sklearn.cluster import KMeans\n",
    "from sklearn.metrics import silhouette_score\n",
    "from sklearn.preprocessing import StandardScaler\n",
    "from sklearn.decomposition import PCA\n",
    "from mpl_toolkits.mplot3d import Axes3D\n",
    "from feat.feature_builder import FeatureHandler\n",
    "import datetime\n",
    "\n",
    "from sklearn.preprocessing import StandardScaler\n"
   ]
  },
  {
   "cell_type": "code",
   "execution_count": null,
   "metadata": {},
   "outputs": [],
   "source": [
    "customers = pd.read_csv(\"/workspaces/hnb/data/customer_data.csv\").drop(\"Loyalty Points\", axis=1).dropna()\n",
    "customers2 = pd.read_csv(\"/workspaces/hnb/data/customer_data.csv\")\n",
    "customers2 = customers2[customers2[\"Loyalty Card\"]==1].dropna()\n",
    "\n",
    "trans = pd.read_csv(\"/workspaces/hnb/data/transactions_data.csv\")\n",
    "trans[\"Date\"] = [datetime.datetime.strptime(date_, '%Y-%m-%d') for date_ in trans[\"Date\"]]\n",
    "\n",
    "complete_df = trans.merge(customers, on=\"Customer ID\").drop([\"Transaction ID\", \"Customer ID\", \"Date\",\"Incomplete Transaction\"], axis=1)\n"
   ]
  },
  {
   "cell_type": "markdown",
   "metadata": {},
   "source": [
    "The following chuck look for variance in the date and check for posible synthetic data"
   ]
  },
  {
   "cell_type": "code",
   "execution_count": null,
   "metadata": {},
   "outputs": [],
   "source": [
    "test = customers.values[:,1:]\n",
    "\n",
    "unique_count = np.zeros_like(test)\n",
    "\n",
    "for feature in range(test.shape[1]):\n",
    "    _,index, count = np.unique(test[:, feature], return_counts=True, return_index=True)\n",
    "    unique_count[index[count==1], feature] += 1\n",
    "\n",
    "real_samples = np.argwhere(np.sum(unique_count, axis=1) > 0)[:, 0]\n",
    "synth_samples = np.argwhere(np.sum(unique_count, axis=1) == 0)[:, 0]\n",
    "\n",
    "print(\"real\", len(real_samples))\n",
    "print(\"fake\", len(synth_samples))"
   ]
  },
  {
   "cell_type": "markdown",
   "metadata": {},
   "source": [
    "# Categorical variables to numerical"
   ]
  },
  {
   "cell_type": "code",
   "execution_count": null,
   "metadata": {},
   "outputs": [],
   "source": [
    "ids = customers[\"Customer ID\"]\n",
    "customers = pd.get_dummies(customers.iloc[:,1:], dtype=float)\n"
   ]
  },
  {
   "cell_type": "code",
   "execution_count": null,
   "metadata": {},
   "outputs": [],
   "source": [
    "vh = FeatureHandler(customers)\n",
    "vh.categorical_to_numerical()\n",
    "scaler = StandardScaler()\n",
    "df = scaler.fit_transform(vh.df)"
   ]
  },
  {
   "cell_type": "markdown",
   "metadata": {},
   "source": [
    "# Clustering\n",
    "\n",
    "Look for possibles clusters and the purity of them using the silhouette score"
   ]
  },
  {
   "cell_type": "code",
   "execution_count": null,
   "metadata": {},
   "outputs": [],
   "source": [
    "\n",
    "kmeans = KMeans(n_clusters = 2, init='k-means++')\n",
    "kmeans.fit(df)\n",
    "\n",
    "print(silhouette_score(df, kmeans.labels_, metric='manhattan'))"
   ]
  },
  {
   "cell_type": "code",
   "execution_count": null,
   "metadata": {},
   "outputs": [],
   "source": [
    "scaler = StandardScaler()\n",
    "\n",
    "pca = PCA(n_components=3)\n",
    "principalComponents = pca.fit_transform(df)\n",
    "\n",
    "features = range(pca.n_components_)\n",
    "plt.bar(features, pca.explained_variance_ratio_, color='black')\n",
    "plt.xlabel('PCA features')\n",
    "plt.ylabel('variance %')\n",
    "plt.xticks(features)\n",
    "\n",
    "PCA_components = pd.DataFrame(principalComponents)\n",
    "PCA_components"
   ]
  },
  {
   "cell_type": "code",
   "execution_count": null,
   "metadata": {},
   "outputs": [],
   "source": [
    "model = KMeans(n_clusters=4)\n",
    "\n",
    "clusters = model.fit_predict(df)\n",
    "PCA_components[\"label\"] = clusters\n",
    " \n",
    "fig = plt.figure(figsize=(21,10))\n",
    "ax = fig.add_subplot(111, projection='3d')\n",
    "ax.scatter(PCA_components.iloc[:,0][PCA_components.label == 0], PCA_components.iloc[:,1][PCA_components.label == 0], PCA_components.iloc[:,2][PCA_components.label == 0], c='blue', s=60)\n",
    "ax.scatter(PCA_components.iloc[:,0][PCA_components.label == 1], PCA_components.iloc[:,1][PCA_components.label == 1], PCA_components.iloc[:,2][PCA_components.label == 1], c='red', s=60)\n",
    "ax.scatter(PCA_components.iloc[:,0][PCA_components.label == 2], PCA_components.iloc[:,1][PCA_components.label == 2], PCA_components.iloc[:,2][PCA_components.label == 2], c='green', s=60)\n",
    "ax.scatter(PCA_components.iloc[:,0][PCA_components.label == 3], PCA_components.iloc[:,1][PCA_components.label == 3], PCA_components.iloc[:,2][PCA_components.label == 3], c='orange', s=60)\n",
    "\n",
    "ax.view_init(30, 185)\n",
    "plt.show()"
   ]
  },
  {
   "cell_type": "code",
   "execution_count": null,
   "metadata": {},
   "outputs": [],
   "source": [
    "import plotly.express as px\n",
    "PCA_components.columns = [\"pc1\",\"pc2\",\"pc3\", \"labels\"]\n",
    "fig = px.scatter_3d(PCA_components, x='pc1', y='pc2', z='pc3',\n",
    "              color='labels')\n",
    "fig.show()"
   ]
  },
  {
   "cell_type": "code",
   "execution_count": null,
   "metadata": {},
   "outputs": [],
   "source": [
    "a = trans.loc[:,[\"Customer ID\", \"Incomplete Transaction\"]].groupby(\"Customer ID\").sum()\n",
    "b = trans.loc[:,[\"Customer ID\", \"Incomplete Transaction\"]].groupby(\"Customer ID\").count()\n",
    "c = (a/b)"
   ]
  },
  {
   "cell_type": "code",
   "execution_count": null,
   "metadata": {},
   "outputs": [],
   "source": [
    "customers[\"Customer ID\"] = ids\n",
    "cc = customers.merge(c, on=\"Customer ID\")\n",
    "cc = cc.merge(a, on=\"Customer ID\")\n",
    "cc = cc.merge(b, on=\"Customer ID\").drop(\"Household Income\", axis=1)\n",
    "\n",
    "cc[\"Age\"] = (cc[\"Age\"]-np.mean(cc[\"Age\"]))/np.std(cc[\"Age\"])\n",
    "cc"
   ]
  },
  {
   "cell_type": "code",
   "execution_count": null,
   "metadata": {},
   "outputs": [],
   "source": [
    "pca = PCA(n_components=3)\n",
    "principalComponents = pca.fit_transform(cc.iloc[:,:-4])\n",
    "\n",
    "features = range(pca.n_components_)\n",
    "plt.bar(features, pca.explained_variance_ratio_, color='black')\n",
    "plt.xlabel('PCA features')\n",
    "plt.ylabel('variance %')\n",
    "plt.xticks(features)\n",
    "\n",
    "PCA_components = pd.DataFrame(principalComponents)\n",
    "PCA_components"
   ]
  },
  {
   "cell_type": "code",
   "execution_count": null,
   "metadata": {},
   "outputs": [],
   "source": [
    "import plotly.express as px\n",
    "PCA_components[\"labels\"] = c\n",
    "PCA_components.columns = [\"pc1\",\"pc2\",\"pc3\", \"labels\"]\n",
    "fig = px.scatter_3d(PCA_components, x='pc1', y='pc2', z='pc3')\n",
    "fig.show()"
   ]
  },
  {
   "cell_type": "markdown",
   "metadata": {},
   "source": [
    "# Autoencoders for dimensionality reduction"
   ]
  },
  {
   "cell_type": "code",
   "execution_count": null,
   "metadata": {},
   "outputs": [],
   "source": [
    "from keras.layers import Input, Dense\n",
    "from keras.models import Model"
   ]
  },
  {
   "cell_type": "code",
   "execution_count": null,
   "metadata": {},
   "outputs": [],
   "source": [
    "encoding_dim = 3"
   ]
  },
  {
   "cell_type": "code",
   "execution_count": null,
   "metadata": {},
   "outputs": [],
   "source": [
    "input_dim = Input(shape = (trans.iloc[:, 4:-1].shape[1], ))\n",
    "\n",
    "# Encoder Layers\n",
    "encoded1 = Dense(10, activation = 'relu')(input_dim)\n",
    "encoded2 = Dense(8, activation = 'relu')(encoded1)\n",
    "encoded3 = Dense(6, activation = 'relu')(encoded2)\n",
    "encoded13 = Dense(encoding_dim, activation = 'relu')(encoded3)\n",
    "\n",
    "# Decoder Layers\n",
    "decoded1 = Dense(6, activation = 'relu')(encoded13)\n",
    "decoded11 = Dense(8, activation = 'relu')(decoded1)\n",
    "decoded12 = Dense(10, activation = 'relu')(decoded11)\n",
    "decoded13 = Dense(trans.iloc[:, 4:-1].shape[1], activation = 'linear')(decoded12)\n",
    "\n",
    "# Combine Encoder and Deocder layers\n",
    "autoencoder = Model(inputs = input_dim, outputs = decoded13)\n",
    "autoencoder.compile(optimizer = 'adam', loss = 'mean_squared_error')\n"
   ]
  },
  {
   "cell_type": "code",
   "execution_count": null,
   "metadata": {
    "collapsed": true,
    "jupyter": {
     "outputs_hidden": true
    },
    "tags": []
   },
   "outputs": [],
   "source": [
    "autoencoder.fit(trans.iloc[:, 4:-1], trans.iloc[:, 4:-1], epochs = 1000, shuffle = False, validation_split=0.2)\n"
   ]
  },
  {
   "cell_type": "code",
   "execution_count": null,
   "metadata": {},
   "outputs": [],
   "source": [
    "encoder = Model(inputs = input_dim, outputs = encoded13)"
   ]
  },
  {
   "cell_type": "code",
   "execution_count": null,
   "metadata": {},
   "outputs": [],
   "source": [
    "encoded_train = pd.DataFrame(encoder.predict(trans.iloc[:, 4:-1]))\n",
    "encoded_train = encoded_train.add_prefix('feature_')\n"
   ]
  },
  {
   "cell_type": "code",
   "execution_count": null,
   "metadata": {},
   "outputs": [],
   "source": [
    "print(encoded_train.shape)\n",
    "encoded_train.head()"
   ]
  },
  {
   "cell_type": "code",
   "execution_count": null,
   "metadata": {},
   "outputs": [],
   "source": [
    "import plotly.express as px\n",
    "encoded_train[\"label\"] = trans.iloc[:, -1]\n",
    "fig = px.scatter_3d(encoded_train, x='feature_0', y='feature_1', z='feature_2', color=\"label\")\n",
    "fig.show()"
   ]
  }
 ],
 "metadata": {
  "kernelspec": {
   "display_name": "Python 3 (ipykernel)",
   "language": "python",
   "name": "python3"
  },
  "language_info": {
   "codemirror_mode": {
    "name": "ipython",
    "version": 3
   },
   "file_extension": ".py",
   "mimetype": "text/x-python",
   "name": "python",
   "nbconvert_exporter": "python",
   "pygments_lexer": "ipython3",
   "version": "3.8.10"
  },
  "vscode": {
   "interpreter": {
    "hash": "949777d72b0d2535278d3dc13498b2535136f6dfe0678499012e853ee9abcab1"
   }
  }
 },
 "nbformat": 4,
 "nbformat_minor": 4
}
