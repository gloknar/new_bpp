{
 "cells": [
  {
   "cell_type": "markdown",
   "metadata": {},
   "source": [
    "# Libraries"
   ]
  },
  {
   "cell_type": "code",
   "execution_count": null,
   "metadata": {},
   "outputs": [],
   "source": [
    "import pandas as pd\n",
    "import numpy as np\n",
    "import matplotlib.pyplot as plt\n",
    "import seaborn as sns\n",
    "import itertools\n",
    "\n",
    "\n",
    "from eda.chart_utils import plot_categorical_variable\n",
    "from feat.feature_builder import FeatureHandler\n",
    "\n",
    "import datetime\n",
    "import warnings\n",
    "import numpy as np\n",
    "import pandas as pd\n",
    "import seaborn as sns\n",
    "import matplotlib.pyplot as plt\n",
    "from sklearn.metrics import roc_auc_score, roc_curve\n",
    "from sklearn.model_selection import StratifiedKFold\n",
    "warnings.filterwarnings('ignore')"
   ]
  },
  {
   "cell_type": "markdown",
   "metadata": {},
   "source": [
    "# Data import"
   ]
  },
  {
   "cell_type": "code",
   "execution_count": null,
   "metadata": {},
   "outputs": [],
   "source": [
    "customers = pd.read_csv(\"/workspaces/hnb/data/customer_data.csv\")\n",
    "trans = pd.read_csv(\"/workspaces/hnb/data/transactions_data.csv\")\n",
    "trans[\"Date\"] = [datetime.datetime.strptime(date_, '%Y-%m-%d') for date_ in trans[\"Date\"]]"
   ]
  },
  {
   "cell_type": "markdown",
   "metadata": {},
   "source": [
    "* The data of transations is free of missing values.\n",
    "* The data of customers has missing values in education and for those users without loyalty card there is not information in Loyalty Points."
   ]
  },
  {
   "cell_type": "code",
   "execution_count": null,
   "metadata": {},
   "outputs": [],
   "source": [
    "trans.head(3)"
   ]
  },
  {
   "cell_type": "markdown",
   "metadata": {},
   "source": [
    "* it is possible to compute percentage of completed transactions for each user"
   ]
  },
  {
   "cell_type": "code",
   "execution_count": null,
   "metadata": {},
   "outputs": [],
   "source": [
    "num_intrans = trans.loc[:,[\"Customer ID\", \"Incomplete Transaction\"]].groupby(\"Customer ID\").sum()\n",
    "num_trans = trans.loc[:,[\"Customer ID\", \"Incomplete Transaction\"]].groupby(\"Customer ID\").count()\n",
    "c = (num_intrans/num_trans)\n",
    "cc = customers.merge(c, on=\"Customer ID\")\n",
    "cc = cc.merge(num_intrans, on=\"Customer ID\")\n",
    "cc = cc.merge(num_trans, on=\"Customer ID\")\n",
    "\n",
    "plt.hist(cc[\"Incomplete Transaction_x\"], bins=30)\n",
    "plt.show()\n"
   ]
  },
  {
   "cell_type": "code",
   "execution_count": null,
   "metadata": {},
   "outputs": [],
   "source": [
    "customers.head(3)"
   ]
  },
  {
   "cell_type": "code",
   "execution_count": null,
   "metadata": {},
   "outputs": [],
   "source": [
    "complete_df = trans.merge(customers, on=\"Customer ID\")\n"
   ]
  },
  {
   "cell_type": "code",
   "execution_count": null,
   "metadata": {},
   "outputs": [],
   "source": [
    "complete_df.head(3)"
   ]
  },
  {
   "cell_type": "code",
   "execution_count": null,
   "metadata": {},
   "outputs": [],
   "source": [
    "vh = FeatureHandler(complete_df)\n",
    "vh.run_feat_buider()"
   ]
  },
  {
   "cell_type": "markdown",
   "metadata": {},
   "source": [
    "# Transaction variables\n",
    "### Univariant transaction variables study"
   ]
  },
  {
   "cell_type": "code",
   "execution_count": null,
   "metadata": {},
   "outputs": [],
   "source": [
    "plot_categorical_variable(vh.df[\"Incomplete Transaction\"].values, complete_df.index.values)"
   ]
  },
  {
   "cell_type": "code",
   "execution_count": null,
   "metadata": {},
   "outputs": [],
   "source": [
    "plot_categorical_variable(complete_df[\"Education\"].values, trans.index.values, violin=False)"
   ]
  },
  {
   "cell_type": "code",
   "execution_count": null,
   "metadata": {},
   "outputs": [],
   "source": [
    "variable = \"Education\"\n",
    "count_val = complete_df.loc[:,[variable, \"Incomplete Transaction\",\"Region\"]].groupby([variable]).count()\n",
    "sum_val = complete_df.loc[:,[variable, \"Incomplete Transaction\",\"Region\"]].groupby([variable]).sum()\n",
    "print(count_val)\n",
    "sum_val/count_val"
   ]
  },
  {
   "cell_type": "markdown",
   "metadata": {},
   "source": [
    "# Multivariate transaction variables study "
   ]
  },
  {
   "cell_type": "code",
   "execution_count": null,
   "metadata": {},
   "outputs": [],
   "source": [
    "df_numeric = vh.df.iloc[:,3:].select_dtypes(include=['number']).drop(columns=['Incomplete Transaction'])\n",
    "distribution_cols = []\n",
    "distribution_cols += [x for x in df_numeric.columns]\n"
   ]
  },
  {
   "cell_type": "code",
   "execution_count": null,
   "metadata": {},
   "outputs": [],
   "source": [
    "fig = plt.figure(figsize=(17, 80))\n",
    "i = 1\n",
    "for col in distribution_cols:\n",
    "    ax = fig.add_subplot(df_numeric.shape[1], 2, i)\n",
    "    #violin = sns.violinplot(x=col, data = df, palette=\"muted\", inner = 'box',linewidth=3)\n",
    "    box = sns.boxplot(x=col,data=vh.df, linewidth=3, color=\"skyblue\")\n",
    "    #box = ax.boxplot(df[col], flierprops=dict(markerfacecolor='r', marker='s'), vert=False, patch_artist=True)\n",
    "    ax.set_title(col, fontweight = 'bold')\n",
    "    ax.set_xlabel(None)\n",
    "    ax = fig.add_subplot(df_numeric.shape[1], 2, i+1)\n",
    "    p1 = sns.kdeplot(vh.df.loc[vh.df[\"Incomplete Transaction\"]==0,col], shade=True, color=\"salmon\", label='Yes purchase')\n",
    "    p1 = sns.kdeplot(vh.df.loc[vh.df[\"Incomplete Transaction\"]==1,col], shade=True, color=\"skyblue\", label='No purchase')\n",
    "    ax.set_title(col, fontweight = 'bold')\n",
    "    ax.legend(fontsize=15)\n",
    "    i+=2\n",
    "    \n",
    "plt.tight_layout()\n",
    "plt.show"
   ]
  },
  {
   "cell_type": "markdown",
   "metadata": {},
   "source": [
    "### Analysis of multiple variables in joint plots"
   ]
  },
  {
   "cell_type": "code",
   "execution_count": null,
   "metadata": {},
   "outputs": [],
   "source": [
    "combis = list(itertools.product(distribution_cols, distribution_cols))\n",
    "len(combis)\n"
   ]
  },
  {
   "cell_type": "code",
   "execution_count": null,
   "metadata": {},
   "outputs": [],
   "source": [
    "fig = plt.figure(figsize=(17, 80))\n",
    "import numpy as np\n",
    "noise_x = np.random.normal(0,0.3,vh.df.shape[0])\n",
    "noise_y = np.random.normal(0,0.3,vh.df.shape[0])\n",
    "\n",
    "i = 1\n",
    "for a,b in combis:\n",
    "    if a!=b:\n",
    "        sns.jointplot(\n",
    "            x=complete_df[a]+noise_x,\n",
    "            y=complete_df[b]+noise_y,\n",
    "            hue=complete_df[\"Incomplete Transaction\"]\n",
    "        )\n",
    "        plt.savefig(f\"/workspaces/hnb/images/eda/combi_{a}_{b}\")\n",
    "        plt.close()\n"
   ]
  },
  {
   "cell_type": "markdown",
   "metadata": {},
   "source": [
    "# Analysis of correlations"
   ]
  },
  {
   "cell_type": "code",
   "execution_count": null,
   "metadata": {},
   "outputs": [],
   "source": [
    "pd.set_option('display.max_columns', None)\n",
    "vh.df.describe()\n"
   ]
  },
  {
   "cell_type": "code",
   "execution_count": null,
   "metadata": {},
   "outputs": [],
   "source": [
    "from scipy import stats\n",
    "numerics = ['int16', 'int32', 'int64', 'float16', 'float32', 'float64']\n",
    "\n",
    "newdf = vh.df.select_dtypes(include=numerics)\n",
    "for i in newdf.columns:\n",
    "    try:\n",
    "        print(f\"variable: {i} with point biserial correlation coefficient->\", stats.pointbiserialr(vh.df[i], vh.df[\"Incomplete Transaction\"]))\n",
    "    except ValueError:\n",
    "        pass"
   ]
  },
  {
   "cell_type": "code",
   "execution_count": null,
   "metadata": {},
   "outputs": [],
   "source": [
    "newdf = vh.df.select_dtypes(include=\"object\")\n",
    "for i in newdf.columns:\n",
    "    try:\n",
    "        crosstab = pd.crosstab(index=vh.df[i], columns=vh.df[\"Incomplete Transaction\"])\n",
    "        print(f\"variable: {i} with chi-square p-value->\", stats.chi2_contingency(crosstab)[1])\n",
    "    except ValueError:\n",
    "        pass"
   ]
  }
 ],
 "metadata": {
  "kernelspec": {
   "display_name": "Python 3.7.3 64-bit",
   "language": "python",
   "name": "python3"
  },
  "language_info": {
   "codemirror_mode": {
    "name": "ipython",
    "version": 3
   },
   "file_extension": ".py",
   "mimetype": "text/x-python",
   "name": "python",
   "nbconvert_exporter": "python",
   "pygments_lexer": "ipython3",
   "version": "3.7.3"
  },
  "vscode": {
   "interpreter": {
    "hash": "31f2aee4e71d21fbe5cf8b01ff0e069b9275f58929596ceb00d14d90e3e16cd6"
   }
  }
 },
 "nbformat": 4,
 "nbformat_minor": 4
}
